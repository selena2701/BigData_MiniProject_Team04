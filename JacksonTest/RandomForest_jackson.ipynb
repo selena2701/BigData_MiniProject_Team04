{
 "cells": [
  {
   "cell_type": "markdown",
   "metadata": {},
   "source": [
    "### IMPORT "
   ]
  },
  {
   "cell_type": "code",
   "execution_count": 2,
   "metadata": {},
   "outputs": [],
   "source": [
    "import pandas as pd\n",
    "import seaborn as sns\n",
    "import matplotlib as plt\n",
    "import numpy as np"
   ]
  },
  {
   "cell_type": "markdown",
   "metadata": {},
   "source": [
    "#### Note\n",
    "The segmentation of this dataset is called \"rank\", its based on RFM score (R * 100 + F * 10 + M):\n",
    "- **Platinum Customer**     - rank 1 - rfm_score >= 444\n",
    "- **Very Loyal**            - rank 2 - rfm_score >=433 and rfm_score < 444\n",
    "- **Becoming Loyal**        - rank 3 - rfm_score >=421 and rfm_score < 433\n",
    "- **Recent Customer**       - rank 4 - rfm_score >=344 and rfm_score < 421\n",
    "- **Potential Customer**    - rank 5 - rfm_score >=323 and rfm_score < 344\n",
    "- **Late Bloomer**          - rank 6 - rfm_score >=311 and rfm_score < 323\n",
    "- **Loosing Customer**      - rank 7 - rfm_score >=224 and rfm_score < 311\n",
    "- **High Risk Customer**    - rank 8 - rfm_score >=212 and rfm_score < 224\n",
    "- **Almost Lost Customer**  - rank 9 - rfm_score >=124 and rfm_score < 212\n",
    "- **Evasive Customer**      - rank 10 - rfm_score >=112 and rfm_score < 124\n",
    "- **Lost Customer**         - rank 11 - rfm_score < 112"
   ]
  },
  {
   "cell_type": "code",
   "execution_count": null,
   "metadata": {},
   "outputs": [],
   "source": [
    "dataset_filename = \"data/Customer_Trans_RFM_Analysis.csv\""
   ]
  },
  {
   "cell_type": "code",
   "execution_count": 5,
   "metadata": {},
   "outputs": [],
   "source": [
    "dataset = pd.read_csv(dataset_filename)"
   ]
  },
  {
   "cell_type": "markdown",
   "metadata": {},
   "source": [
    "### DATA EXPLORATION?"
   ]
  },
  {
   "cell_type": "code",
   "execution_count": 6,
   "metadata": {},
   "outputs": [
    {
     "data": {
      "text/plain": [
       "(19354, 36)"
      ]
     },
     "execution_count": 6,
     "metadata": {},
     "output_type": "execute_result"
    }
   ],
   "source": [
    "dataset.shape"
   ]
  },
  {
   "cell_type": "code",
   "execution_count": 7,
   "metadata": {},
   "outputs": [
    {
     "name": "stdout",
     "output_type": "stream",
     "text": [
      "<class 'pandas.core.frame.DataFrame'>\n",
      "RangeIndex: 19354 entries, 0 to 19353\n",
      "Data columns (total 36 columns):\n",
      " #   Column                               Non-Null Count  Dtype  \n",
      "---  ------                               --------------  -----  \n",
      " 0   transaction_id                       19354 non-null  int64  \n",
      " 1   product_id                           19354 non-null  int64  \n",
      " 2   customer_id                          19354 non-null  int64  \n",
      " 3   transaction_date                     19354 non-null  object \n",
      " 4   online_order                         19354 non-null  float64\n",
      " 5   order_status                         19354 non-null  object \n",
      " 6   brand                                19354 non-null  object \n",
      " 7   product_line                         19354 non-null  object \n",
      " 8   product_class                        19354 non-null  object \n",
      " 9   product_size                         19354 non-null  object \n",
      " 10  list_price                           19354 non-null  float64\n",
      " 11  standard_cost                        19354 non-null  float64\n",
      " 12  product_first_sold_date              19354 non-null  float64\n",
      " 13  Profit                               19354 non-null  float64\n",
      " 14  first_name                           19354 non-null  object \n",
      " 15  last_name                            18732 non-null  object \n",
      " 16  gender                               19354 non-null  object \n",
      " 17  past_3_years_bike_related_purchases  19354 non-null  int64  \n",
      " 18  DOB                                  19354 non-null  object \n",
      " 19  job_title                            19354 non-null  object \n",
      " 20  job_industry_category                19354 non-null  object \n",
      " 21  wealth_segment                       19354 non-null  object \n",
      " 22  deceased_indicator                   19354 non-null  object \n",
      " 23  owns_car                             19354 non-null  object \n",
      " 24  tenure                               19354 non-null  float64\n",
      " 25  Age                                  19354 non-null  int64  \n",
      " 26  recency                              19354 non-null  int64  \n",
      " 27  frequency                            19354 non-null  int64  \n",
      " 28  monetary                             19354 non-null  float64\n",
      " 29  r_quartile                           19354 non-null  int64  \n",
      " 30  f_quartile                           19354 non-null  int64  \n",
      " 31  m_quartile                           19354 non-null  int64  \n",
      " 32  rfm_score                            19354 non-null  int64  \n",
      " 33  detail_cust_title                    19354 non-null  object \n",
      " 34  rank                                 19354 non-null  int64  \n",
      " 35  Age_Group                            19354 non-null  int64  \n",
      "dtypes: float64(7), int64(13), object(16)\n",
      "memory usage: 5.3+ MB\n"
     ]
    }
   ],
   "source": [
    "dataset.info()"
   ]
  },
  {
   "cell_type": "code",
   "execution_count": null,
   "metadata": {},
   "outputs": [],
   "source": []
  }
 ],
 "metadata": {
  "kernelspec": {
   "display_name": "base",
   "language": "python",
   "name": "python3"
  },
  "language_info": {
   "codemirror_mode": {
    "name": "ipython",
    "version": 3
   },
   "file_extension": ".py",
   "mimetype": "text/x-python",
   "name": "python",
   "nbconvert_exporter": "python",
   "pygments_lexer": "ipython3",
   "version": "3.12.7"
  }
 },
 "nbformat": 4,
 "nbformat_minor": 2
}
